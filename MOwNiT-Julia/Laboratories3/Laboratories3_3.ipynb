{
 "cells": [
  {
   "cell_type": "code",
   "execution_count": 1,
   "metadata": {},
   "outputs": [
    {
     "name": "stderr",
     "output_type": "stream",
     "text": [
      "\u001b[1m\u001b[36mINFO: \u001b[39m\u001b[22m\u001b[36mPrecompiling module FileIO.\n",
      "\u001b[39m\u001b[1m\u001b[36mINFO: \u001b[39m\u001b[22m\u001b[36mPrecompiling module DataFrames.\n",
      "\u001b[39m\u001b[1m\u001b[36mINFO: \u001b[39m\u001b[22m\u001b[36mPrecompiling module ColorTypes.\n",
      "\u001b[39m\u001b[1m\u001b[36mINFO: \u001b[39m\u001b[22m\u001b[36mPrecompiling module Cairo.\n",
      "\u001b[39m\u001b[1m\u001b[36mINFO: \u001b[39m\u001b[22m\u001b[36mPrecompiling module Gadfly.\n",
      "\u001b[39m\u001b[1m\u001b[36mINFO: \u001b[39m\u001b[22m\u001b[36mInitializing package repository /mnt/juliabox/.julia/v0.6\n",
      "\u001b[39m\u001b[1m\u001b[36mINFO: \u001b[39m\u001b[22m\u001b[36mCloning METADATA from https://github.com/JuliaLang/METADATA.jl\n",
      "\u001b[39m\u001b[1m\u001b[36mINFO: \u001b[39m\u001b[22m\u001b[36mInitializing package repository /mnt/juliabox/.julia/v0.6\n",
      "\u001b[39m\u001b[1m\u001b[36mINFO: \u001b[39m\u001b[22m\u001b[36mCloning METADATA from https://github.com/JuliaLang/METADATA.jl\n",
      "\u001b[39m\n",
      "WARNING: deprecated syntax \"abstract ApproxFit\" at /mnt/juliabox/.julia/v0.6/CurveFit/src/CurveFit.jl:47.\n",
      "Use \"abstract type ApproxFit end\" instead.\n",
      "\n",
      "WARNING: deprecated syntax \"abstract LeastSquares<:ApproxFit\" at /mnt/juliabox/.julia/v0.6/CurveFit/src/CurveFit.jl:50.\n",
      "Use \"abstract type LeastSquares<:ApproxFit end\" instead.\n",
      "\u001b[1m\u001b[36mINFO: \u001b[39m\u001b[22m\u001b[36mRecompiling stale cache file /mnt/juliabox/.julia/lib/v0.6/Polynomials.ji for module Polynomials.\n",
      "\u001b[39m\n",
      "WARNING: deprecated syntax \"inner constructor LinearFit(...) around /mnt/juliabox/.julia/v0.6/CurveFit/src/linfit.jl:54\".\n",
      "Use \"LinearFit{T}(...) where T\" instead.\n",
      "\n",
      "WARNING: deprecated syntax \"inner constructor LogFit(...) around /mnt/juliabox/.julia/v0.6/CurveFit/src/linfit.jl:62\".\n",
      "Use \"LogFit{T}(...) where T\" instead.\n",
      "\n",
      "WARNING: deprecated syntax \"inner constructor PowerFit(...) around /mnt/juliabox/.julia/v0.6/CurveFit/src/linfit.jl:69\".\n",
      "Use \"PowerFit{T}(...) where T\" instead.\n",
      "\n",
      "WARNING: deprecated syntax \"inner constructor ExpFit(...) around /mnt/juliabox/.julia/v0.6/CurveFit/src/linfit.jl:76\".\n",
      "Use \"ExpFit{T}(...) where T\" instead.\n",
      "WARNING: could not import Base.call into CurveFit\n"
     ]
    }
   ],
   "source": [
    "using DataFrames\n",
    "using Gadfly\n",
    "using CurveFit\n",
    "\n",
    "set_default_plot_size(20cm, 12cm)"
   ]
  },
  {
   "cell_type": "code",
   "execution_count": 103,
   "metadata": {},
   "outputs": [
    {
     "data": {
      "text/html": [
       "<table class=\"data-frame\"><thead><tr><th></th><th>Type</th><th>MatrixRows</th><th>ClockTime</th></tr></thead><tbody><tr><th>1</th><td>2</td><td>70</td><td>1249</td></tr><tr><th>2</th><td>2</td><td>140</td><td>9991</td></tr><tr><th>3</th><td>2</td><td>210</td><td>33749</td></tr><tr><th>4</th><td>2</td><td>280</td><td>81702</td></tr><tr><th>5</th><td>2</td><td>350</td><td>156507</td></tr><tr><th>6</th><td>2</td><td>420</td><td>274518</td></tr><tr><th>7</th><td>2</td><td>490</td><td>444566</td></tr><tr><th>8</th><td>2</td><td>560</td><td>666857</td></tr><tr><th>9</th><td>2</td><td>630</td><td>949501</td></tr><tr><th>10</th><td>2</td><td>700</td><td>1275413</td></tr><tr><th>11</th><td>2</td><td>70</td><td>1244</td></tr><tr><th>12</th><td>2</td><td>140</td><td>9992</td></tr><tr><th>13</th><td>2</td><td>210</td><td>33621</td></tr><tr><th>14</th><td>2</td><td>280</td><td>79708</td></tr><tr><th>15</th><td>2</td><td>350</td><td>155990</td></tr><tr><th>16</th><td>2</td><td>420</td><td>269626</td></tr><tr><th>17</th><td>2</td><td>490</td><td>432504</td></tr><tr><th>18</th><td>2</td><td>560</td><td>647625</td></tr><tr><th>19</th><td>2</td><td>630</td><td>924514</td></tr><tr><th>20</th><td>2</td><td>700</td><td>1272104</td></tr><tr><th>21</th><td>2</td><td>70</td><td>1258</td></tr><tr><th>22</th><td>2</td><td>140</td><td>10072</td></tr><tr><th>23</th><td>2</td><td>210</td><td>34286</td></tr><tr><th>24</th><td>2</td><td>280</td><td>82002</td></tr><tr><th>25</th><td>2</td><td>350</td><td>158179</td></tr><tr><th>26</th><td>2</td><td>420</td><td>286984</td></tr><tr><th>27</th><td>2</td><td>490</td><td>442896</td></tr><tr><th>28</th><td>2</td><td>560</td><td>649703</td></tr><tr><th>29</th><td>2</td><td>630</td><td>927604</td></tr><tr><th>30</th><td>2</td><td>700</td><td>1290520</td></tr><tr><th>&vellip;</th><td>&vellip;</td><td>&vellip;</td><td>&vellip;</td></tr></tbody></table>"
      ],
      "text/plain": [
       "100×3 DataFrames.DataFrame\n",
       "│ Row │ Type │ MatrixRows │ ClockTime │\n",
       "├─────┼──────┼────────────┼───────────┤\n",
       "│ 1   │ 2    │ 70         │ 1249      │\n",
       "│ 2   │ 2    │ 140        │ 9991      │\n",
       "│ 3   │ 2    │ 210        │ 33749     │\n",
       "│ 4   │ 2    │ 280        │ 81702     │\n",
       "│ 5   │ 2    │ 350        │ 156507    │\n",
       "│ 6   │ 2    │ 420        │ 274518    │\n",
       "│ 7   │ 2    │ 490        │ 444566    │\n",
       "│ 8   │ 2    │ 560        │ 666857    │\n",
       "│ 9   │ 2    │ 630        │ 949501    │\n",
       "│ 10  │ 2    │ 700        │ 1275413   │\n",
       "│ 11  │ 2    │ 70         │ 1244      │\n",
       "⋮\n",
       "│ 89  │ 2    │ 630        │ 927518    │\n",
       "│ 90  │ 2    │ 700        │ 1270939   │\n",
       "│ 91  │ 2    │ 70         │ 1243      │\n",
       "│ 92  │ 2    │ 140        │ 9993      │\n",
       "│ 93  │ 2    │ 210        │ 33623     │\n",
       "│ 94  │ 2    │ 280        │ 80433     │\n",
       "│ 95  │ 2    │ 350        │ 158402    │\n",
       "│ 96  │ 2    │ 420        │ 270250    │\n",
       "│ 97  │ 2    │ 490        │ 433814    │\n",
       "│ 98  │ 2    │ 560        │ 648515    │\n",
       "│ 99  │ 2    │ 630        │ 928518    │\n",
       "│ 100 │ 2    │ 700        │ 1274187   │"
      ]
     },
     "execution_count": 103,
     "metadata": {},
     "output_type": "execute_result"
    }
   ],
   "source": [
    "df = readtable(\"CalculationTime.csv\")\n",
    "dfNaive = df[df[:Type] .== 0, :]\n",
    "dfBetter = df[df[:Type] .== 1, :]\n",
    "dfBLAS = df[df[:Type] .== 2, :]"
   ]
  },
  {
   "cell_type": "code",
   "execution_count": 104,
   "metadata": {},
   "outputs": [
    {
     "data": {
      "text/html": [
       "<table class=\"data-frame\"><thead><tr><th></th><th>MatrixRows</th><th>MeanClockTime</th><th>AberrationClockTime</th></tr></thead><tbody><tr><th>1</th><td>70</td><td>1250.2</td><td>8.61265219184995</td></tr><tr><th>2</th><td>140</td><td>10068.9</td><td>164.31301429487155</td></tr><tr><th>3</th><td>210</td><td>34031.8</td><td>719.6312018434628</td></tr><tr><th>4</th><td>280</td><td>80898.5</td><td>1868.6109665857268</td></tr><tr><th>5</th><td>350</td><td>157887.4</td><td>2113.701713424421</td></tr><tr><th>6</th><td>420</td><td>273806.2</td><td>5075.608092742299</td></tr><tr><th>7</th><td>490</td><td>435272.9</td><td>4748.982544831168</td></tr><tr><th>8</th><td>560</td><td>656499.0</td><td>15551.637119966215</td></tr><tr><th>9</th><td>630</td><td>933817.9</td><td>8626.1084112259</td></tr><tr><th>10</th><td>700</td><td>1.2808432e6</td><td>12512.782404849495</td></tr></tbody></table>"
      ],
      "text/plain": [
       "10×3 DataFrames.DataFrame\n",
       "│ Row │ MatrixRows │ MeanClockTime │ AberrationClockTime │\n",
       "├─────┼────────────┼───────────────┼─────────────────────┤\n",
       "│ 1   │ 70         │ 1250.2        │ 8.61265             │\n",
       "│ 2   │ 140        │ 10068.9       │ 164.313             │\n",
       "│ 3   │ 210        │ 34031.8       │ 719.631             │\n",
       "│ 4   │ 280        │ 80898.5       │ 1868.61             │\n",
       "│ 5   │ 350        │ 1.57887e5     │ 2113.7              │\n",
       "│ 6   │ 420        │ 2.73806e5     │ 5075.61             │\n",
       "│ 7   │ 490        │ 4.35273e5     │ 4748.98             │\n",
       "│ 8   │ 560        │ 656499.0      │ 15551.6             │\n",
       "│ 9   │ 630        │ 9.33818e5     │ 8626.11             │\n",
       "│ 10  │ 700        │ 1.28084e6     │ 12512.8             │"
      ]
     },
     "execution_count": 104,
     "metadata": {},
     "output_type": "execute_result"
    }
   ],
   "source": [
    "dfMeanNaive = by(dfNaive, :MatrixRows, df -> DataFrame(MeanClockTime = mean(df[:ClockTime]), AberrationClockTime = std(df[:ClockTime])))\n",
    "dfMeanBetter = by(dfBetter, :MatrixRows, df -> DataFrame(MeanClockTime = mean(df[:ClockTime]), AberrationClockTime = std(df[:ClockTime])))\n",
    "dfMeanBLAS = by(dfBLAS, :MatrixRows, df -> DataFrame(MeanClockTime = mean(df[:ClockTime]), AberrationClockTime = std(df[:ClockTime])))"
   ]
  },
  {
   "cell_type": "code",
   "execution_count": 105,
   "metadata": {},
   "outputs": [
    {
     "data": {
      "text/plain": [
       "changeColumnType (generic function with 1 method)"
      ]
     },
     "execution_count": 105,
     "metadata": {},
     "output_type": "execute_result"
    }
   ],
   "source": [
    "# Change type from DataArrays.DataArray{Float64,1} to Array{Float64,1}\n",
    "# Important to use in curve_fit()\n",
    "function changeColumnType(df)\n",
    "    array = zeros(size(df, 1))\n",
    "    for i=1:10\n",
    "        array[i] = df[i]\n",
    "    end\n",
    "    return array\n",
    "end"
   ]
  },
  {
   "cell_type": "code",
   "execution_count": 106,
   "metadata": {},
   "outputs": [
    {
     "data": {
      "text/html": [
       "437692.1583333297 &#45; 5162.623866883098&#8729;x &#43; 13.366906230674063&#8729;x^2"
      ],
      "text/plain": [
       "Poly(437692.1583333297 - 5162.623866883098*x + 13.366906230674063*x^2)"
      ]
     },
     "execution_count": 106,
     "metadata": {},
     "output_type": "execute_result"
    }
   ],
   "source": [
    "x = dfMeanNaive[:MatrixRows]\n",
    "x = changeColumnType(x)\n",
    "y = dfMeanNaive[:MeanClockTime]\n",
    "y = changeColumnType(y)\n",
    "fitNaive = curve_fit(Poly, x, y, 2)"
   ]
  },
  {
   "cell_type": "code",
   "execution_count": 107,
   "metadata": {},
   "outputs": [
    {
     "data": {
      "text/html": [
       "468483.3583333294 &#45; 5532.837663419893&#8729;x &#43; 14.302076607915867&#8729;x^2"
      ],
      "text/plain": [
       "Poly(468483.3583333294 - 5532.837663419893*x + 14.302076607915867*x^2)"
      ]
     },
     "execution_count": 107,
     "metadata": {},
     "output_type": "execute_result"
    }
   ],
   "source": [
    "x = dfMeanBetter[:MatrixRows]\n",
    "x = changeColumnType(x)\n",
    "y = dfMeanBetter[:MeanClockTime]\n",
    "y = changeColumnType(y)\n",
    "fitBetter = curve_fit(Poly, x, y, 2)"
   ]
  },
  {
   "cell_type": "code",
   "execution_count": 108,
   "metadata": {},
   "outputs": [
    {
     "data": {
      "text/html": [
       "111848.54999999891 &#45; 1413.4917640692586&#8729;x &#43; 4.340224644403208&#8729;x^2"
      ],
      "text/plain": [
       "Poly(111848.54999999891 - 1413.4917640692586*x + 4.340224644403208*x^2)"
      ]
     },
     "execution_count": 108,
     "metadata": {},
     "output_type": "execute_result"
    }
   ],
   "source": [
    "x = dfMeanBLAS[:MatrixRows]\n",
    "x = changeColumnType(x)\n",
    "y = dfMeanBLAS[:MeanClockTime]\n",
    "y = changeColumnType(y)\n",
    "fitBLAS = curve_fit(Poly, x, y, 2)"
   ]
  },
  {
   "cell_type": "code",
   "execution_count": 111,
   "metadata": {},
   "outputs": [
    {
     "data": {
      "text/plain": [
       "1-element Array{Gadfly.Layer,1}:\n",
       " Gadfly.Layer(nothing, Dict{Symbol,Any}(Pair{Symbol,Any}(:y, [34171.2, -971.894, 6419.19, 56344.5, 148804.0, 2.83798e5, 4.61326e5, 6.81388e5, 9.43984e5, 1.24911e6]),Pair{Symbol,Any}(:x, [70.0, 140.0, 210.0, 280.0, 350.0, 420.0, 490.0, 560.0, 630.0, 700.0])), Gadfly.StatisticElement[], Gadfly.Geom.LineGeometry(Gadfly.Stat.Identity(), false, 2, Symbol(\"\")), Gadfly.Theme(RGB{N0f8}(1.0,0.0,0.0), 0.9mm, 0.45mm, 1.8mm, Function[Compose.circle, Gadfly.square, Gadfly.diamond, Gadfly.cross, Gadfly.xcross, Gadfly.utriangle, Gadfly.dtriangle, Gadfly.star1, Gadfly.star2, Gadfly.hexagon, Gadfly.octagon, Gadfly.hline, Gadfly.vline], 0.3mm, :solid, nothing, nothing, 1.0, nothing, 5.0mm, RGB{N0f8}(0.816,0.816,0.878), Measures.Length{:mm,Float64}[0.5mm, 0.5mm], RGB{N0f8}(0.627,0.627,0.627), 0.2mm, \"'PT Sans Caption','Helvetica Neue','Helvetica',sans-serif\", 2.82222mm, RGB{N0f8}(0.424,0.376,0.42), \"'PT Sans','Helvetica Neue','Helvetica',sans-serif\", 3.88056mm, RGB{N0f8}(0.337,0.29,0.333), \"'PT Sans Caption','Helvetica Neue','Helvetica',sans-serif\", 2.82222mm, RGB{N0f8}(0.298,0.251,0.294), \"'PT Sans','Helvetica Neue','Helvetica',sans-serif\", 3.88056mm, RGB{N0f8}(0.212,0.165,0.208), \"'PT Sans','Helvetica Neue','Helvetica',sans-serif\", 2.82222mm, RGB{N0f8}(0.298,0.251,0.294), 40, -0.05mm, 1.0mm, 3.0mm, Gadfly.default_stroke_color, 0.3mm, Gadfly.default_discrete_highlight_color, Gadfly.default_continuous_highlight_color, Gadfly.default_lowlight_color, 0.6, Gadfly.default_middle_color, 0.6mm, :left, :square, :right, nothing, 2.0mm, 1000, 10.0, 0.5, 0.2, 4, Gadfly.Scale.DiscreteColorScale(Gadfly.Scale.default_discrete_colors, nothing, nothing, true), Gadfly.Scale.ContinuousColorScale(Gadfly.Scale.#71, Gadfly.Scale.ContinuousScaleTransform(identity, identity, Gadfly.Scale.identity_formatter), nothing, nothing)), 0)"
      ]
     },
     "execution_count": 111,
     "metadata": {},
     "output_type": "execute_result"
    }
   ],
   "source": [
    "lNaive = layer(dfMeanNaive, x = :MatrixRows, y = :MeanClockTime, ymin = dfMeanNaive[:MeanClockTime]-dfMeanNaive[:AberrationClockTime], ymax = dfMeanNaive[:MeanClockTime] + dfMeanNaive[:AberrationClockTime], Geom.point, Geom.errorbar, Theme(default_color=\"blue\"))\n",
    "lBetter = layer(dfMeanBetter, x = :MatrixRows, y = :MeanClockTime, ymin = dfMeanBetter[:MeanClockTime]-dfMeanBetter[:AberrationClockTime], ymax = dfMeanBetter[:MeanClockTime] + dfMeanBetter[:AberrationClockTime], Geom.point, Geom.errorbar, Theme(default_color=\"orange\"))\n",
    "lBLAS = layer(dfMeanBLAS, x = :MatrixRows, y = :MeanClockTime, ymin = dfMeanBLAS[:MeanClockTime]-dfMeanBLAS[:AberrationClockTime], ymax = dfMeanBLAS[:MeanClockTime] + dfMeanBLAS[:AberrationClockTime], Geom.point, Geom.errorbar, Theme(default_color=\"red\"))\n",
    "lNaiveCurve = layer(x = x, y = fitNaive(x), Geom.line, Theme(default_color=\"blue\"))\n",
    "lBetterCurve = layer(x = x, y = fitBetter(x), Geom.line, Theme(default_color=\"orange\"))\n",
    "lBLASCurve = layer(x = x, y = fitBLAS(x), Geom.line, Theme(default_color=\"red\"))"
   ]
  },
  {
   "cell_type": "code",
   "execution_count": null,
   "metadata": {},
   "outputs": [],
   "source": [
    "plot(lNaive, lBetter, lBLAS, lNaiveCurve, lBetterCurve, lBLASCurve, Guide.title(\"Blue - Naive\\nOrange - Better\\nRed - BLAS\"))"
   ]
  },
  {
   "cell_type": "code",
   "execution_count": null,
   "metadata": {},
   "outputs": [],
   "source": []
  }
 ],
 "metadata": {
  "kernelspec": {
   "display_name": "Julia 0.6.0",
   "language": "julia",
   "name": "julia-0.6"
  },
  "language_info": {
   "file_extension": ".jl",
   "mimetype": "application/julia",
   "name": "julia",
   "version": "0.6.0"
  }
 },
 "nbformat": 4,
 "nbformat_minor": 2
}
